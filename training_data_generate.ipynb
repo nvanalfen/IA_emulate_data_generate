{
 "cells": [
  {
   "cell_type": "code",
   "execution_count": 1,
   "id": "cbfa4888-fad1-443b-9a95-81574e132249",
   "metadata": {},
   "outputs": [],
   "source": [
    "from __future__ import print_function, division\n",
    "import numpy as np\n",
    "from astropy.table import Table\n",
    "import matplotlib.pyplot as plt\n",
    "%matplotlib inline\n",
    "\n",
    "import time\n",
    "\n",
    "from halotools.sim_manager import CachedHaloCatalog, UserSuppliedHaloCatalog\n",
    "#halocat = CachedHaloCatalog(simname='bolplanck', halo_finder='rockstar',\n",
    "#                            redshift=0.0, version_name='halotools_v0p4')\n",
    "\n",
    "from halotools.empirical_models import HodModelFactory\n",
    "from halotools.empirical_models.ia_models.ia_model_components import CentralAlignment, RandomAlignment, RadialSatelliteAlignment, SubhaloAlignment\n",
    "from halotools.empirical_models.ia_models.ia_strength_models import RadialSatelliteAlignmentStrength\n",
    "from halotools.empirical_models import TrivialPhaseSpace, ZuMandelbaum15Cens, ZuMandelbaum15Sats, \\\n",
    "                                        Leauthaud11Cens, Leauthaud11Sats, Zheng07Cens, Zheng07Sats, \\\n",
    "                                        NFWPhaseSpace, SubhaloPhaseSpace\n",
    "from halotools.mock_observables import tpcf\n",
    "from halotools.mock_observables.ia_correlations import ee_3d, ed_3d\n",
    "\n",
    "import warnings\n",
    "warnings.filterwarnings(\"ignore\")"
   ]
  },
  {
   "cell_type": "code",
   "execution_count": 2,
   "id": "9446aa49-aabe-4fc7-b786-9098ba4a540d",
   "metadata": {},
   "outputs": [],
   "source": [
    "# Eliminate halos with 0 for halo_axisA_x(,y,z)\n",
    "def mask_bad_halocat(halocat):\n",
    "    bad_mask = (halocat.halo_table[\"halo_axisA_x\"] == 0) & (halocat.halo_table[\"halo_axisA_y\"] == 0) & (halocat.halo_table[\"halo_axisA_z\"] == 0)\n",
    "    bad_mask = bad_mask ^ np.ones(len(bad_mask), dtype=bool)\n",
    "    halocat._halo_table = halocat.halo_table[ bad_mask ]"
   ]
  },
  {
   "cell_type": "markdown",
   "id": "7762463e-795b-48e9-97f1-eed17813158a",
   "metadata": {},
   "source": [
    "# Set Up Variables\n",
    "Prepare the values and variables to be used during model creation"
   ]
  },
  {
   "cell_type": "markdown",
   "id": "d0c95c93-5be7-4276-8964-0ddff7789a59",
   "metadata": {},
   "source": [
    "## Halocat\n",
    "Select which halocat to use"
   ]
  },
  {
   "cell_type": "code",
   "execution_count": 3,
   "id": "80561afc-4299-4781-968b-851e35242d39",
   "metadata": {},
   "outputs": [],
   "source": [
    "use_bolplanck = True\n",
    "\n",
    "if use_bolplanck:\n",
    "    halocat = CachedHaloCatalog(simname='bolplanck', halo_finder='rockstar', redshift=0, version_name='halotools_v0p4')\n",
    "    mask_bad_halocat(halocat)\n",
    "else:\n",
    "    halocat = CachedHaloCatalog(simname='multidark', halo_finder='rockstar', redshift=0, version_name='halotools_v0p4')\n",
    "    mask_bad_halocat(halocat)"
   ]
  },
  {
   "cell_type": "markdown",
   "id": "b1844af8-974d-4aa8-a2d5-dd1a3cb37329",
   "metadata": {},
   "source": [
    "## Rbins\n",
    "Choose the rbin values"
   ]
  },
  {
   "cell_type": "code",
   "execution_count": 4,
   "id": "fbe7ee4b-ee42-49b7-9466-e6981eda7485",
   "metadata": {},
   "outputs": [],
   "source": [
    "rbins = np.logspace(-1,1.2,15)\n",
    "rbin_centers = (rbins[:-1]+rbins[1:])/2.0"
   ]
  },
  {
   "cell_type": "markdown",
   "id": "8f6d617b-83cd-4507-856c-db2ac2799437",
   "metadata": {},
   "source": [
    "## Build Model\n",
    "Set up model components.</br>\n",
    "These may change throughout the run, especially the alignment strengths.</br>\n",
    "To this end, I have placed the whole model generation into a function that can be called using just the alignment parameters.</br>\n",
    "Other parameters may be added as flexibility is needed."
   ]
  },
  {
   "cell_type": "code",
   "execution_count": 5,
   "id": "1e25c1c6-7574-45c6-9980-f424102c068e",
   "metadata": {},
   "outputs": [],
   "source": [
    "central_alignment_strength = 1\n",
    "satellite_alignment_a=0.805\n",
    "satellite_alignment_gamma=-0.029\n",
    "sat_bins = np.logspace(10.5, 15.2, 15)\n",
    "if not use_bolplanck:\n",
    "    sat_bins = np.logspace(12.4, 15.5, 15)"
   ]
  },
  {
   "cell_type": "code",
   "execution_count": 19,
   "id": "d9602c67-8426-4176-b655-c366b8156261",
   "metadata": {},
   "outputs": [],
   "source": [
    "def build_model_instance(cen_strength, sat_a, sat_gamma, sat_bins, halocat):\n",
    "\n",
    "    cens_occ_model = Zheng07Cens()\n",
    "    cens_prof_model = TrivialPhaseSpace()\n",
    "    cens_orientation = CentralAlignment(central_alignment_strenth=cen_strength)\n",
    "\n",
    "    sats_occ_model = Zheng07Sats()\n",
    "    prof_args = (\"satellites\", sat_bins)\n",
    "    sats_prof_model = SubhaloPhaseSpace(*prof_args)\n",
    "\n",
    "    #sats_orientation = SubhaloAlignment\n",
    "    sats_orientation = RadialSatelliteAlignment(satellite_alignment_strength=1, halocat=halocat)\n",
    "    sats_strength = RadialSatelliteAlignmentStrength(satellite_alignment_a=sat_a, satellite_alignment_gamma=sat_gamma)\n",
    "    Lbox = halocat.Lbox\n",
    "    sats_strength.inherit_halocat_properties(Lbox=Lbox)\n",
    "    \n",
    "    model_instance = HodModelFactory(centrals_occupation = cens_occ_model,\n",
    "                                     centrals_profile = cens_prof_model,\n",
    "                                     satellites_occupation = sats_occ_model,\n",
    "                                     satellites_profile = sats_prof_model,\n",
    "                                     satellites_radial_alignment_strength = sats_strength,\n",
    "                                     centrals_orientation = cens_orientation,\n",
    "                                     satellites_orientation = sats_orientation,\n",
    "                                     model_feature_calling_sequence = (\n",
    "                                     'centrals_occupation',\n",
    "                                     'centrals_profile',\n",
    "                                     'satellites_occupation',\n",
    "                                     'satellites_profile',\n",
    "                                     'satellites_radial_alignment_strength',\n",
    "                                     'centrals_orientation',\n",
    "                                     'satellites_orientation')\n",
    "                                    )\n",
    "\n",
    "    seed=None\n",
    "    model_instance.populate_mock(halocat,seed=seed)\n",
    "    \n",
    "    return model_instance"
   ]
  },
  {
   "cell_type": "markdown",
   "id": "cdabac82-0694-4fa9-a89a-1d7f9ea11b2c",
   "metadata": {},
   "source": [
    "# Generate Data"
   ]
  },
  {
   "cell_type": "code",
   "execution_count": 7,
   "id": "dbe2779c-1c59-4520-9514-b470ecc1b086",
   "metadata": {},
   "outputs": [],
   "source": [
    "def generate_correlations(model, halocat):\n",
    "    gal_table = model.mock.galaxy_table\n",
    "\n",
    "    coords = np.array( [ gal_table[\"x\"], gal_table[\"y\"], gal_table[\"z\"] ] ).T\n",
    "    orientations = np.array( [ gal_table[\"galaxy_axisA_x\"], gal_table[\"galaxy_axisA_y\"], gal_table[\"galaxy_axisA_z\"] ] ).T\n",
    "    \n",
    "    xi = tpcf(coords, rbins, coords, period=halocat.Lbox)\n",
    "    omega = ed_3d(coords, orientations, coords, rbins, period=halocat.Lbox)\n",
    "    eta = ee_3d(coords, orientations, coords, orientations, rbins, period=halocat.Lbox)\n",
    "    \n",
    "    return [xi, omega, eta]"
   ]
  },
  {
   "cell_type": "code",
   "execution_count": 8,
   "id": "7aba3c71-b32a-4c87-ac59-41551dd73775",
   "metadata": {},
   "outputs": [],
   "source": [
    "central_alignment_strengths = [0.0, 0.1, 0.2, 0.3, 0.4, 0.5, 0.6, 0.7, 0.8, 0.9, 1.0]\n",
    "satellite_alignment_params = [(0.75, -0.02), (0.805, -0.029), (0.85, -0.35)]\n",
    "runs = 1\n",
    "\n",
    "# Initial model (Using default values from above)\n",
    "model_instance = build_model_instance(central_alignment_strength, satellite_alignment_a, satellite_alignment_gamma, sat_bins, halocat)\n",
    "\n",
    "input_params = []\n",
    "outputs = []\n",
    "\n",
    "start = time.time()\n",
    "\n",
    "for cen_mu in central_alignment_strengths:\n",
    "    for sat_a, sat_gamma in satellite_alignment_params:\n",
    "        for run in range(runs):\n",
    "            input_row = [cen_mu, sat_a, sat_gamma]\n",
    "            \n",
    "            # Adjust parameters in model\n",
    "            model_instance.param_dict[\"central_alignment_strength\"] = cen_mu\n",
    "            model_instance.param_dict[\"a\"] = sat_a\n",
    "            model_instance.param_dict[\"gamma\"] = sat_gamma\n",
    "            model_instance.mock.populate()\n",
    "            \n",
    "            output_row = generate_correlations(model_instance, halocat)\n",
    "            \n",
    "            input_params.append( input_row )\n",
    "            outputs.append( output_row )\n",
    "            \n",
    "input_params = np.array( input_params )\n",
    "outputs = np.array( outputs )"
   ]
  },
  {
   "cell_type": "code",
   "execution_count": null,
   "id": "d9080727-6a1d-4844-9069-86953f3d2425",
   "metadata": {},
   "outputs": [],
   "source": [
    "np.save(\"input_params.npy\", input_params)\n",
    "np.save(\"outputs.npy\", outputs)"
   ]
  },
  {
   "cell_type": "markdown",
   "id": "b36658b1-d4cf-4be2-84bf-12692961e4bd",
   "metadata": {},
   "source": [
    "# Testing Ground"
   ]
  },
  {
   "cell_type": "code",
   "execution_count": 20,
   "id": "49b1caec-6476-483b-a0d1-feef2fc78b55",
   "metadata": {},
   "outputs": [],
   "source": [
    "model_instance = build_model_instance(central_alignment_strength, satellite_alignment_a, satellite_alignment_gamma, sat_bins, halocat)"
   ]
  },
  {
   "cell_type": "code",
   "execution_count": 21,
   "id": "4cdc187a-3395-4962-9ee5-120034e6a4e1",
   "metadata": {},
   "outputs": [
    {
     "data": {
      "text/plain": [
       "{'logMmin': 12.02,\n",
       " 'sigma_logM': 0.26,\n",
       " 'logM0': 11.38,\n",
       " 'logM1': 13.31,\n",
       " 'alpha': 1.06,\n",
       " 'a': 0.805,\n",
       " 'gamma': -0.029,\n",
       " 'central_alignment_strength': 1.0,\n",
       " 'satellite_alignment_strength': 1}"
      ]
     },
     "execution_count": 21,
     "metadata": {},
     "output_type": "execute_result"
    }
   ],
   "source": [
    "model_instance.param_dict"
   ]
  },
  {
   "cell_type": "code",
   "execution_count": 28,
   "id": "c3338ef5-7fbf-464a-a4b6-1972406d8ec2",
   "metadata": {},
   "outputs": [],
   "source": [
    "param_dict = {\n",
    "    \"central_alignment_strength\":[-1.,-0.5,0,0.5,1.],\n",
    "    \"satellite_alignment_strength\":[-1.,-0.5,0,0.5,1.],\n",
    "    \"logMmin\":[12.0, 12.5, 13.0],\n",
    "    \"sigma_logM\":[0.22, 0.26, 0.3],\n",
    "    \"logM0\":[12.3, 12.6, 12.9],\n",
    "    \"logM1\":[13.2, 13.5, 13.8],\n",
    "    \"alpha\":[0.5, 1.0, 1.5]\n",
    "}"
   ]
  },
  {
   "cell_type": "code",
   "execution_count": 23,
   "id": "d0dca353-a3b3-4ca1-9ec5-4d88d3678846",
   "metadata": {},
   "outputs": [],
   "source": [
    "def permute_params(param_dict):\n",
    "    keys = [ key for key in param_dict.keys() ]\n",
    "    values = list( itertools.product( *[ param_dict[key] for key in keys ] ) )\n",
    "\n",
    "    return keys, values"
   ]
  },
  {
   "cell_type": "code",
   "execution_count": 24,
   "id": "85186c26-f623-48e6-a263-87c2252e5f6f",
   "metadata": {},
   "outputs": [],
   "source": [
    "import itertools"
   ]
  },
  {
   "cell_type": "code",
   "execution_count": 29,
   "id": "66554191-7457-44b2-a3bb-76d396eecd80",
   "metadata": {},
   "outputs": [],
   "source": [
    "keys, values = permute_params(param_dict)"
   ]
  },
  {
   "cell_type": "code",
   "execution_count": 31,
   "id": "c65af1ec-50af-4339-a0cd-8aa6a2a397a5",
   "metadata": {},
   "outputs": [
    {
     "data": {
      "text/plain": [
       "30.375"
      ]
     },
     "execution_count": 31,
     "metadata": {},
     "output_type": "execute_result"
    }
   ],
   "source": [
    "len(values)/200"
   ]
  },
  {
   "cell_type": "code",
   "execution_count": null,
   "id": "18e12e3a-be32-4a44-84e0-075f71efcf71",
   "metadata": {},
   "outputs": [],
   "source": []
  }
 ],
 "metadata": {
  "kernelspec": {
   "display_name": "IA",
   "language": "python",
   "name": "ia"
  },
  "language_info": {
   "codemirror_mode": {
    "name": "ipython",
    "version": 3
   },
   "file_extension": ".py",
   "mimetype": "text/x-python",
   "name": "python",
   "nbconvert_exporter": "python",
   "pygments_lexer": "ipython3",
   "version": "3.10.12"
  }
 },
 "nbformat": 4,
 "nbformat_minor": 5
}
